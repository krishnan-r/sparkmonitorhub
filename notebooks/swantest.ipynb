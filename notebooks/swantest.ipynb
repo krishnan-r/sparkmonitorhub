{
 "cells": [
  {
   "cell_type": "markdown",
   "metadata": {},
   "source": [
    "# Testing SparkMonitor"
   ]
  },
  {
   "cell_type": "code",
   "execution_count": null,
   "metadata": {},
   "outputs": [],
   "source": [
    "print(conf.toDebugString())"
   ]
  },
  {
   "cell_type": "code",
   "execution_count": null,
   "metadata": {},
   "outputs": [],
   "source": [
    "import getpass\n",
    "import os, sys\n",
    "\n",
    "print(\"Please enter your password\")\n",
    "ret = os.system(\"echo \\\"%s\\\" | kinit\" % getpass.getpass())\n",
    "\n",
    "if ret == 0: print(\"Credentials created successfully\")\n",
    "else:        sys.stderr.write('Error creating credentials, return code: %s\\n' % ret)"
   ]
  },
  {
   "cell_type": "code",
   "execution_count": null,
   "metadata": {
    "collapsed": true
   },
   "outputs": [],
   "source": [
    "from pyspark import SparkContext\n",
    "from pyspark.sql import SparkSession"
   ]
  },
  {
   "cell_type": "code",
   "execution_count": null,
   "metadata": {},
   "outputs": [],
   "source": [
    "conf.set('spark.driver.host', os.environ['SERVER_HOSTNAME'])\n",
    "conf.set('spark.driver.port', os.environ['SPARK_PORT_1'])\n",
    "conf.set('spark.fileserver.port', os.environ['SPARK_PORT_2'])\n",
    "conf.set('spark.blockManager.port', os.environ['SPARK_PORT_3'])\n",
    "conf.set('spark.ui.port', os.environ['SPARK_PORT_4'])\n",
    "conf.set('spark.master', 'yarn')\n",
    "#conf.set('spark.jars', '{lcgview}/lib/accsoft/accsoft-nxcals-data-access-0.1.4.jar,{lcgview}/lib/accsoft/dependency/accsoft-nxcals-common-0.1.4.jar,{lcgview}/lib/accsoft/dependency/accsoft-nxcals-service-client-0.1.4.jar,{lcgview}/lib/accsoft/dependency/activation-1.1.jar,{lcgview}/lib/accsoft/dependency/apacheds-i18n-2.0.0-M15.jar,{lcgview}/lib/accsoft/dependency/apacheds-kerberos-codec-2.0.0-M15.jar,{lcgview}/lib/accsoft/dependency/api-asn1-api-1.0.0-M20.jar,{lcgview}/lib/accsoft/dependency/api-util-1.0.0-M20.jar,{lcgview}/lib/accsoft/dependency/aspectjrt-1.8.10.jar,{lcgview}/lib/accsoft/dependency/aspectjweaver-1.8.10.jar,{lcgview}/lib/accsoft/dependency/avro-1.8.1.jar,{lcgview}/lib/accsoft/dependency/commons-beanutils-1.7.0.jar,{lcgview}/lib/accsoft/dependency/commons-beanutils-core-1.8.0.jar,{lcgview}/lib/accsoft/dependency/commons-cli-1.2.jar,{lcgview}/lib/accsoft/dependency/commons-codec-1.10.jar,{lcgview}/lib/accsoft/dependency/commons-collections-3.2.2.jar,{lcgview}/lib/accsoft/dependency/commons-compress-1.8.1.jar,{lcgview}/lib/accsoft/dependency/commons-configuration-1.6.jar,{lcgview}/lib/accsoft/dependency/commons-daemon-1.0.13.jar,{lcgview}/lib/accsoft/dependency/commons-digester-1.8.jar,{lcgview}/lib/accsoft/dependency/commons-el-1.0.jar,{lcgview}/lib/accsoft/dependency/commons-httpclient-3.1.jar,{lcgview}/lib/accsoft/dependency/commons-io-2.5.jar,{lcgview}/lib/accsoft/dependency/commons-lang-2.6.jar,{lcgview}/lib/accsoft/dependency/commons-lang3-3.5.jar,{lcgview}/lib/accsoft/dependency/commons-logging-1.2.jar,{lcgview}/lib/accsoft/dependency/commons-math-2.1.jar,{lcgview}/lib/accsoft/dependency/commons-math3-3.4.1.jar,{lcgview}/lib/accsoft/dependency/commons-net-2.2.jar,{lcgview}/lib/accsoft/dependency/commons-pool2-2.4.2.jar,{lcgview}/lib/accsoft/dependency/config-1.3.1.jar,{lcgview}/lib/accsoft/dependency/curator-client-2.7.1.jar,{lcgview}/lib/accsoft/dependency/curator-framework-2.7.1.jar,{lcgview}/lib/accsoft/dependency/curator-recipes-2.4.0.jar,{lcgview}/lib/accsoft/dependency/disruptor-3.3.0.jar,{lcgview}/lib/accsoft/dependency/findbugs-annotations-1.3.9-1.jar,{lcgview}/lib/accsoft/dependency/gson-2.2.4.jar,{lcgview}/lib/accsoft/dependency/guava-16.0.jar,{lcgview}/lib/accsoft/dependency/hadoop-annotations-2.6.0-cdh5.7.5.jar,{lcgview}/lib/accsoft/dependency/hadoop-auth-2.6.0-cdh5.7.5.jar,{lcgview}/lib/accsoft/dependency/hadoop-common-2.6.0-cdh5.7.5.jar,{lcgview}/lib/accsoft/dependency/hadoop-hdfs-2.6.0-cdh5.7.5.jar,{lcgview}/lib/accsoft/dependency/hadoop-hdfs-2.6.0-cdh5.7.5-tests.jar,{lcgview}/lib/accsoft/dependency/hamcrest-core-1.3.jar,{lcgview}/lib/accsoft/dependency/hbase-annotations-1.2.0-cdh5.7.5.jar,{lcgview}/lib/accsoft/dependency/hbase-client-1.2.0-cdh5.7.5.jar,{lcgview}/lib/accsoft/dependency/hbase-common-1.2.0-cdh5.7.5.jar,{lcgview}/lib/accsoft/dependency/hbase-common-1.2.0-cdh5.7.5-tests.jar,{lcgview}/lib/accsoft/dependency/hbase-hadoop2-compat-1.2.0-cdh5.7.5.jar,{lcgview}/lib/accsoft/dependency/hbase-hadoop-compat-1.2.0-cdh5.7.5.jar,{lcgview}/lib/accsoft/dependency/hbase-prefix-tree-1.2.0-cdh5.7.5.jar,{lcgview}/lib/accsoft/dependency/hbase-procedure-1.2.0-cdh5.7.5.jar,{lcgview}/lib/accsoft/dependency/hbase-protocol-1.2.0-cdh5.7.5.jar,{lcgview}/lib/accsoft/dependency/hbase-server-1.2.0-cdh5.7.5.jar,{lcgview}/lib/accsoft/dependency/high-scale-lib-1.1.1.jar,{lcgview}/lib/accsoft/dependency/hortonworks-shc-core-cern-1.0.3-2.1-s_2.11-CERN.jar,{lcgview}/lib/accsoft/dependency/htrace-core-3.2.0-incubating.jar,{lcgview}/lib/accsoft/dependency/htrace-core4-4.0.1-incubating.jar,{lcgview}/lib/accsoft/dependency/httpclient-4.5.2.jar,{lcgview}/lib/accsoft/dependency/httpcore-4.4.4.jar,{lcgview}/lib/accsoft/dependency/jackson-annotations-2.6.0.jar,{lcgview}/lib/accsoft/dependency/jackson-core-2.6.5.jar,{lcgview}/lib/accsoft/dependency/jackson-core-asl-1.9.13.jar,{lcgview}/lib/accsoft/dependency/jackson-databind-2.6.5.jar,{lcgview}/lib/accsoft/dependency/jackson-jaxrs-1.8.8.jar,{lcgview}/lib/accsoft/dependency/jackson-mapper-asl-1.9.13.jar,{lcgview}/lib/accsoft/dependency/jackson-xc-1.8.3.jar,{lcgview}/lib/accsoft/dependency/jamon-runtime-2.4.1.jar,{lcgview}/lib/accsoft/dependency/jasper-compiler-5.5.23.jar,{lcgview}/lib/accsoft/dependency/jasper-runtime-5.5.23.jar,{lcgview}/lib/accsoft/dependency/javax.servlet-api-3.1.0.jar,{lcgview}/lib/accsoft/dependency/jaxb-api-2.2.2.jar,{lcgview}/lib/accsoft/dependency/jaxb-impl-2.2.3-1.jar,{lcgview}/lib/accsoft/dependency/jcodings-1.0.8.jar,{lcgview}/lib/accsoft/dependency/jersey-core-1.9.jar,{lcgview}/lib/accsoft/dependency/jersey-json-1.9.jar,{lcgview}/lib/accsoft/dependency/jersey-server-1.9.jar,{lcgview}/lib/accsoft/dependency/jets3t-0.7.1.jar,{lcgview}/lib/accsoft/dependency/jettison-1.1.jar,{lcgview}/lib/accsoft/dependency/jetty-6.1.26.cloudera.4.jar,{lcgview}/lib/accsoft/dependency/jetty-sslengine-6.1.26.cloudera.4.jar,{lcgview}/lib/accsoft/dependency/jetty-util-6.1.26.cloudera.4.jar,{lcgview}/lib/accsoft/dependency/joni-2.1.2.jar,{lcgview}/lib/accsoft/dependency/jsch-0.1.42.jar,{lcgview}/lib/accsoft/dependency/jsp-2.1-6.1.14.jar,{lcgview}/lib/accsoft/dependency/jsp-api-2.1-6.1.14.jar,{lcgview}/lib/accsoft/dependency/leveldbjni-all-1.8.jar,{lcgview}/lib/accsoft/dependency/log4j-1.2-api-2.6.2.jar,{lcgview}/lib/accsoft/dependency/log4j-api-2.6.2.jar,{lcgview}/lib/accsoft/dependency/log4j-core-2.6.2.jar,{lcgview}/lib/accsoft/dependency/log4j-slf4j-impl-2.6.2.jar,{lcgview}/lib/accsoft/dependency/metrics-core-2.2.0.jar,{lcgview}/lib/accsoft/dependency/netty-all-4.0.23.Final.jar,{lcgview}/lib/accsoft/dependency/paranamer-2.7.jar,{lcgview}/lib/accsoft/dependency/protobuf-java-2.5.0.jar,{lcgview}/lib/accsoft/dependency/scala-library-2.11.8.jar,{lcgview}/lib/accsoft/dependency/slf4j-api-1.7.21.jar,{lcgview}/lib/accsoft/dependency/snappy-java-1.1.1.3.jar,{lcgview}/lib/accsoft/dependency/stax-api-1.0-2.jar,{lcgview}/lib/accsoft/dependency/xmlenc-0.52.jar,{lcgview}/lib/accsoft/dependency/xz-1.5.jar,{lcgview}/lib/accsoft/dependency/zookeeper-3.4.5-cdh5.7.5.jar'.format(lcgview = os.environ['LCG_VIEW']))\n",
    "conf.set('spark.driver.extraJavaOptions', '-Dservice.url=http://cs-ccr-nxcalsstr1.cern.ch:19093')\n",
    "conf.set('spark.driver.memory', '8g')\n",
    "sc = SparkContext(conf = conf)\n",
    "spark = SparkSession(sc)"
   ]
  },
  {
   "cell_type": "code",
   "execution_count": null,
   "metadata": {
    "collapsed": true
   },
   "outputs": [],
   "source": [
    "sc.parallelize(range(1,1000)).count()"
   ]
  },
  {
   "cell_type": "code",
   "execution_count": null,
   "metadata": {
    "collapsed": true
   },
   "outputs": [],
   "source": [
    "import time\n",
    "b=sc.broadcast([3,5]) #Creating a broadcast variable available on all executors\n",
    "a=sc.accumulator(0)   #Creating an accumulator for adding values across executors\n",
    "RDD0=sc.parallelize([y for y in range(0,11)]) #RDD from input python collection\n",
    "RDD2=sc.parallelize([z for z in range(0,10)])\n",
    "RDD1=RDD0.cartesian(RDD2) \n",
    "cached=RDD2.cache() #Testing cached RDD\n",
    "RDD22=RDD1.map(lambda x:x[0]+x[1]+b.value[0])\n",
    "RDD3=RDD22.repartition(7) # To trigger a new stage.\n",
    "RDD4=RDD2.map(lambda x: 3*x-b.value[0])\n",
    "RDD5=RDD3.filter(lambda x:x%2==0)\n",
    "RDD6=RDD4.filter(lambda x:x%2!=0)\n",
    "RDD7=RDD5.cartesian(RDD6)\n",
    "RDD8=RDD7.flatMap(lambda x: [x[i] for i in range(0,2)])\n",
    "RDD9=RDD8.union(cached)\n",
    "ans=RDD9.reduce(lambda x,y: x+y) # Doing a simple sum on the random data.\n",
    "print(ans)\n",
    "def f(x):\n",
    "    global a\n",
    "    time.sleep(0.1) #Making the job run a little longer\n",
    "  #  print(1/0)\n",
    "    a+=x\n",
    "RDD9.foreach(f)\n",
    "print(a.value)\n",
    "\n",
    "#Display should appear automatically"
   ]
  },
  {
   "cell_type": "code",
   "execution_count": null,
   "metadata": {
    "collapsed": true
   },
   "outputs": [],
   "source": [
    "sc.parallelize(range(0,100)).count()\n",
    "sc.parallelize(range(0,200)).count()\n",
    "sc.parallelize(range(0,300)).count()\n",
    "sc.parallelize(range(0,400)).count()\n",
    "sc.parallelize(range(0,500)).count()\n",
    "sc.parallelize(range(0,600)).count()\n",
    "sc.parallelize(range(0,700)).count()\n",
    "sc.parallelize(range(0,800)).count()\n",
    "sc.parallelize(range(0,900)).count()\n",
    "sc.parallelize(range(0,1000)).count()"
   ]
  },
  {
   "cell_type": "code",
   "execution_count": null,
   "metadata": {
    "collapsed": true
   },
   "outputs": [],
   "source": [
    "sc.stop()"
   ]
  }
 ],
 "metadata": {
  "kernelspec": {
   "display_name": "Python [default]",
   "language": "python",
   "name": "python2"
  },
  "language_info": {
   "codemirror_mode": {
    "name": "ipython",
    "version": 2
   },
   "file_extension": ".py",
   "mimetype": "text/x-python",
   "name": "python",
   "nbconvert_exporter": "python",
   "pygments_lexer": "ipython2",
   "version": "2.7.13"
  }
 },
 "nbformat": 4,
 "nbformat_minor": 1
}
